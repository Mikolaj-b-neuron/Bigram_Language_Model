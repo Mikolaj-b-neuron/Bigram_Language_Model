{
 "cells": [
  {
   "cell_type": "code",
   "execution_count": 1,
   "metadata": {},
   "outputs": [
    {
     "name": "stdout",
     "output_type": "stream",
     "text": [
      "WARNING:tensorflow:From c:\\Users\\Dell\\AppData\\Local\\Programs\\Python\\Python311\\Lib\\site-packages\\keras\\src\\losses.py:2976: The name tf.losses.sparse_softmax_cross_entropy is deprecated. Please use tf.compat.v1.losses.sparse_softmax_cross_entropy instead.\n",
      "\n"
     ]
    }
   ],
   "source": [
    "#Color printing\n",
    "from termcolor import colored\n",
    "\n",
    "from datetime import datetime\n",
    "import numpy as np\n",
    "\n",
    "#The tensorflow library\n",
    "import os\n",
    "os.environ[\"TF_CPP_MIN_LOG_LEVEL\"] = \"1\"\n",
    "\n",
    "import tensorflow  as tf\n",
    "\n",
    "#Plotting libraries\n",
    "#import matplotlib as mpl\n",
    "import matplotlib.pyplot as plt\n",
    "import pickle\n",
    "\n",
    "#Increase plots font size\n",
    "params = {'legend.fontsize': 'xx-large',\n",
    "          'figure.figsize': (10, 7),\n",
    "         'axes.labelsize': 'xx-large',\n",
    "         'axes.titlesize':'xx-large',\n",
    "         'xtick.labelsize':'xx-large',\n",
    "         'ytick.labelsize':'xx-large'}\n",
    "plt.rcParams.update(params)\n",
    "\n",
    "\n",
    "#Hide GPU\n",
    "tf.config.set_visible_devices([], 'GPU')"
   ]
  },
  {
   "cell_type": "code",
   "execution_count": 2,
   "metadata": {},
   "outputs": [],
   "source": [
    "# lets start by preprocessing the input text. apart from the usual stuff like all low letters, \n",
    "# here are 2 things worth noting. First is the dynamicly loaded text that i had to implement as I dont have acces to gpu and therefore my script crashed after\n",
    "# running out of RAM. Second part is the <start> and <end> tokens that i used to make the script capable of ending the sentence. After reading some papers I found out thats the way models\n",
    "# like GPT-2.0 knew how to end the sentence.\n",
    "\n",
    "def preprocess_text(text):\n",
    "    text = tf.strings.lower(text)\n",
    "    text = tf.strings.regex_replace(text, r'[^a-z\\s]', '')\n",
    "    words = tf.strings.split(text)\n",
    "    words = tf.concat([['<start>'], words, ['<end>']], axis=0)\n",
    "    return words\n",
    "\n",
    "\n",
    "def text_generator(path):\n",
    "    with open(path, 'r') as file:\n",
    "        for line in file:\n",
    "            words = preprocess_text(line)\n",
    "            for i in range(len(words) - 1):\n",
    "                yield words[i].numpy().decode('utf-8'), words[i+1].numpy().decode('utf-8')\n",
    "                "
   ]
  },
  {
   "cell_type": "code",
   "execution_count": 3,
   "metadata": {},
   "outputs": [],
   "source": [
    "# as during classes, we make a dataset using generator\n",
    "PATH_INPUT = 'PATH_TO_DATASET'\n",
    "\n",
    "dataset = tf.data.Dataset.from_generator(\n",
    "    lambda: text_generator(PATH_INPUT),\n",
    "    output_signature=(\n",
    "        tf.TensorSpec(shape=(), dtype=tf.string),\n",
    "        tf.TensorSpec(shape=(), dtype=tf.string)\n",
    "    )\n",
    ")"
   ]
  },
  {
   "cell_type": "code",
   "execution_count": 6,
   "metadata": {},
   "outputs": [
    {
     "ename": "KeyboardInterrupt",
     "evalue": "",
     "output_type": "error",
     "traceback": [
      "\u001b[1;31m---------------------------------------------------------------------------\u001b[0m",
      "\u001b[1;31mKeyboardInterrupt\u001b[0m                         Traceback (most recent call last)",
      "Cell \u001b[1;32mIn[6], line 3\u001b[0m\n\u001b[0;32m      1\u001b[0m \u001b[38;5;66;03m# We create the vocabulary. This step takes a long time and thats why i aslo provided a ready saved set\u001b[39;00m\n\u001b[0;32m      2\u001b[0m words \u001b[38;5;241m=\u001b[39m \u001b[38;5;28mset\u001b[39m()\n\u001b[1;32m----> 3\u001b[0m \u001b[38;5;28;01mfor\u001b[39;00m word1, word2 \u001b[38;5;129;01min\u001b[39;00m text_generator(PATH):\n\u001b[0;32m      4\u001b[0m     words\u001b[38;5;241m.\u001b[39madd(word1)\n\u001b[0;32m      5\u001b[0m     words\u001b[38;5;241m.\u001b[39madd(word2)\n",
      "Cell \u001b[1;32mIn[3], line 17\u001b[0m, in \u001b[0;36mtext_generator\u001b[1;34m(path)\u001b[0m\n\u001b[0;32m     15\u001b[0m \u001b[38;5;28;01mwith\u001b[39;00m \u001b[38;5;28mopen\u001b[39m(path, \u001b[38;5;124m'\u001b[39m\u001b[38;5;124mr\u001b[39m\u001b[38;5;124m'\u001b[39m) \u001b[38;5;28;01mas\u001b[39;00m file:\n\u001b[0;32m     16\u001b[0m     \u001b[38;5;28;01mfor\u001b[39;00m line \u001b[38;5;129;01min\u001b[39;00m file:\n\u001b[1;32m---> 17\u001b[0m         words \u001b[38;5;241m=\u001b[39m \u001b[43mpreprocess_text\u001b[49m\u001b[43m(\u001b[49m\u001b[43mline\u001b[49m\u001b[43m)\u001b[49m\n\u001b[0;32m     18\u001b[0m         \u001b[38;5;28;01mfor\u001b[39;00m i \u001b[38;5;129;01min\u001b[39;00m \u001b[38;5;28mrange\u001b[39m(\u001b[38;5;28mlen\u001b[39m(words) \u001b[38;5;241m-\u001b[39m \u001b[38;5;241m1\u001b[39m):\n\u001b[0;32m     19\u001b[0m             \u001b[38;5;28;01myield\u001b[39;00m words[i]\u001b[38;5;241m.\u001b[39mnumpy()\u001b[38;5;241m.\u001b[39mdecode(\u001b[38;5;124m'\u001b[39m\u001b[38;5;124mutf-8\u001b[39m\u001b[38;5;124m'\u001b[39m), words[i\u001b[38;5;241m+\u001b[39m\u001b[38;5;241m1\u001b[39m]\u001b[38;5;241m.\u001b[39mnumpy()\u001b[38;5;241m.\u001b[39mdecode(\u001b[38;5;124m'\u001b[39m\u001b[38;5;124mutf-8\u001b[39m\u001b[38;5;124m'\u001b[39m)\n",
      "Cell \u001b[1;32mIn[3], line 9\u001b[0m, in \u001b[0;36mpreprocess_text\u001b[1;34m(text)\u001b[0m\n\u001b[0;32m      7\u001b[0m text \u001b[38;5;241m=\u001b[39m tf\u001b[38;5;241m.\u001b[39mstrings\u001b[38;5;241m.\u001b[39mlower(text)\n\u001b[0;32m      8\u001b[0m text \u001b[38;5;241m=\u001b[39m tf\u001b[38;5;241m.\u001b[39mstrings\u001b[38;5;241m.\u001b[39mregex_replace(text, \u001b[38;5;124mr\u001b[39m\u001b[38;5;124m'\u001b[39m\u001b[38;5;124m[^a-z\u001b[39m\u001b[38;5;124m\\\u001b[39m\u001b[38;5;124ms]\u001b[39m\u001b[38;5;124m'\u001b[39m, \u001b[38;5;124m'\u001b[39m\u001b[38;5;124m'\u001b[39m)\n\u001b[1;32m----> 9\u001b[0m words \u001b[38;5;241m=\u001b[39m \u001b[43mtf\u001b[49m\u001b[38;5;241;43m.\u001b[39;49m\u001b[43mstrings\u001b[49m\u001b[38;5;241;43m.\u001b[39;49m\u001b[43msplit\u001b[49m\u001b[43m(\u001b[49m\u001b[43mtext\u001b[49m\u001b[43m)\u001b[49m\n\u001b[0;32m     10\u001b[0m words \u001b[38;5;241m=\u001b[39m tf\u001b[38;5;241m.\u001b[39mconcat([[\u001b[38;5;124m'\u001b[39m\u001b[38;5;124m<start>\u001b[39m\u001b[38;5;124m'\u001b[39m], words, [\u001b[38;5;124m'\u001b[39m\u001b[38;5;124m<end>\u001b[39m\u001b[38;5;124m'\u001b[39m]], axis\u001b[38;5;241m=\u001b[39m\u001b[38;5;241m0\u001b[39m)\n\u001b[0;32m     11\u001b[0m \u001b[38;5;28;01mreturn\u001b[39;00m words\n",
      "File \u001b[1;32mc:\\Users\\Dell\\AppData\\Local\\Programs\\Python\\Python311\\Lib\\site-packages\\tensorflow\\python\\util\\traceback_utils.py:150\u001b[0m, in \u001b[0;36mfilter_traceback.<locals>.error_handler\u001b[1;34m(*args, **kwargs)\u001b[0m\n\u001b[0;32m    148\u001b[0m filtered_tb \u001b[38;5;241m=\u001b[39m \u001b[38;5;28;01mNone\u001b[39;00m\n\u001b[0;32m    149\u001b[0m \u001b[38;5;28;01mtry\u001b[39;00m:\n\u001b[1;32m--> 150\u001b[0m   \u001b[38;5;28;01mreturn\u001b[39;00m \u001b[43mfn\u001b[49m\u001b[43m(\u001b[49m\u001b[38;5;241;43m*\u001b[39;49m\u001b[43margs\u001b[49m\u001b[43m,\u001b[49m\u001b[43m \u001b[49m\u001b[38;5;241;43m*\u001b[39;49m\u001b[38;5;241;43m*\u001b[39;49m\u001b[43mkwargs\u001b[49m\u001b[43m)\u001b[49m\n\u001b[0;32m    151\u001b[0m \u001b[38;5;28;01mexcept\u001b[39;00m \u001b[38;5;167;01mException\u001b[39;00m \u001b[38;5;28;01mas\u001b[39;00m e:\n\u001b[0;32m    152\u001b[0m   filtered_tb \u001b[38;5;241m=\u001b[39m _process_traceback_frames(e\u001b[38;5;241m.\u001b[39m__traceback__)\n",
      "File \u001b[1;32mc:\\Users\\Dell\\AppData\\Local\\Programs\\Python\\Python311\\Lib\\site-packages\\tensorflow\\python\\util\\dispatch.py:1260\u001b[0m, in \u001b[0;36madd_dispatch_support.<locals>.decorator.<locals>.op_dispatch_handler\u001b[1;34m(*args, **kwargs)\u001b[0m\n\u001b[0;32m   1258\u001b[0m \u001b[38;5;66;03m# Fallback dispatch system (dispatch v1):\u001b[39;00m\n\u001b[0;32m   1259\u001b[0m \u001b[38;5;28;01mtry\u001b[39;00m:\n\u001b[1;32m-> 1260\u001b[0m   \u001b[38;5;28;01mreturn\u001b[39;00m \u001b[43mdispatch_target\u001b[49m\u001b[43m(\u001b[49m\u001b[38;5;241;43m*\u001b[39;49m\u001b[43margs\u001b[49m\u001b[43m,\u001b[49m\u001b[43m \u001b[49m\u001b[38;5;241;43m*\u001b[39;49m\u001b[38;5;241;43m*\u001b[39;49m\u001b[43mkwargs\u001b[49m\u001b[43m)\u001b[49m\n\u001b[0;32m   1261\u001b[0m \u001b[38;5;28;01mexcept\u001b[39;00m (\u001b[38;5;167;01mTypeError\u001b[39;00m, \u001b[38;5;167;01mValueError\u001b[39;00m):\n\u001b[0;32m   1262\u001b[0m   \u001b[38;5;66;03m# Note: convert_to_eager_tensor currently raises a ValueError, not a\u001b[39;00m\n\u001b[0;32m   1263\u001b[0m   \u001b[38;5;66;03m# TypeError, when given unexpected types.  So we need to catch both.\u001b[39;00m\n\u001b[0;32m   1264\u001b[0m   result \u001b[38;5;241m=\u001b[39m dispatch(op_dispatch_handler, args, kwargs)\n",
      "File \u001b[1;32mc:\\Users\\Dell\\AppData\\Local\\Programs\\Python\\Python311\\Lib\\site-packages\\tensorflow\\python\\ops\\ragged\\ragged_string_ops.py:514\u001b[0m, in \u001b[0;36mstring_split_v2\u001b[1;34m(input, sep, maxsplit, name)\u001b[0m\n\u001b[0;32m    512\u001b[0m rank \u001b[38;5;241m=\u001b[39m \u001b[38;5;28minput\u001b[39m\u001b[38;5;241m.\u001b[39mshape\u001b[38;5;241m.\u001b[39mndims\n\u001b[0;32m    513\u001b[0m \u001b[38;5;28;01mif\u001b[39;00m rank \u001b[38;5;241m==\u001b[39m \u001b[38;5;241m0\u001b[39m:\n\u001b[1;32m--> 514\u001b[0m   \u001b[38;5;28;01mreturn\u001b[39;00m \u001b[43mstring_split_v2\u001b[49m\u001b[43m(\u001b[49m\u001b[43marray_ops_stack\u001b[49m\u001b[38;5;241;43m.\u001b[39;49m\u001b[43mstack\u001b[49m\u001b[43m(\u001b[49m\u001b[43m[\u001b[49m\u001b[38;5;28;43minput\u001b[39;49m\u001b[43m]\u001b[49m\u001b[43m)\u001b[49m\u001b[43m,\u001b[49m\u001b[43m \u001b[49m\u001b[43msep\u001b[49m\u001b[43m,\u001b[49m\u001b[43m \u001b[49m\u001b[43mmaxsplit\u001b[49m\u001b[43m)\u001b[49m\u001b[43m[\u001b[49m\u001b[38;5;241;43m0\u001b[39;49m\u001b[43m]\u001b[49m\n\u001b[0;32m    515\u001b[0m \u001b[38;5;28;01melif\u001b[39;00m rank \u001b[38;5;241m==\u001b[39m \u001b[38;5;241m1\u001b[39m \u001b[38;5;129;01mor\u001b[39;00m rank \u001b[38;5;129;01mis\u001b[39;00m \u001b[38;5;28;01mNone\u001b[39;00m:\n\u001b[0;32m    516\u001b[0m   sparse_result \u001b[38;5;241m=\u001b[39m string_ops\u001b[38;5;241m.\u001b[39mstring_split_v2(\n\u001b[0;32m    517\u001b[0m       \u001b[38;5;28minput\u001b[39m, sep\u001b[38;5;241m=\u001b[39msep, maxsplit\u001b[38;5;241m=\u001b[39mmaxsplit)\n",
      "File \u001b[1;32mc:\\Users\\Dell\\AppData\\Local\\Programs\\Python\\Python311\\Lib\\site-packages\\tensorflow\\python\\util\\traceback_utils.py:150\u001b[0m, in \u001b[0;36mfilter_traceback.<locals>.error_handler\u001b[1;34m(*args, **kwargs)\u001b[0m\n\u001b[0;32m    148\u001b[0m filtered_tb \u001b[38;5;241m=\u001b[39m \u001b[38;5;28;01mNone\u001b[39;00m\n\u001b[0;32m    149\u001b[0m \u001b[38;5;28;01mtry\u001b[39;00m:\n\u001b[1;32m--> 150\u001b[0m   \u001b[38;5;28;01mreturn\u001b[39;00m \u001b[43mfn\u001b[49m\u001b[43m(\u001b[49m\u001b[38;5;241;43m*\u001b[39;49m\u001b[43margs\u001b[49m\u001b[43m,\u001b[49m\u001b[43m \u001b[49m\u001b[38;5;241;43m*\u001b[39;49m\u001b[38;5;241;43m*\u001b[39;49m\u001b[43mkwargs\u001b[49m\u001b[43m)\u001b[49m\n\u001b[0;32m    151\u001b[0m \u001b[38;5;28;01mexcept\u001b[39;00m \u001b[38;5;167;01mException\u001b[39;00m \u001b[38;5;28;01mas\u001b[39;00m e:\n\u001b[0;32m    152\u001b[0m   filtered_tb \u001b[38;5;241m=\u001b[39m _process_traceback_frames(e\u001b[38;5;241m.\u001b[39m__traceback__)\n",
      "File \u001b[1;32mc:\\Users\\Dell\\AppData\\Local\\Programs\\Python\\Python311\\Lib\\site-packages\\tensorflow\\python\\util\\dispatch.py:1260\u001b[0m, in \u001b[0;36madd_dispatch_support.<locals>.decorator.<locals>.op_dispatch_handler\u001b[1;34m(*args, **kwargs)\u001b[0m\n\u001b[0;32m   1258\u001b[0m \u001b[38;5;66;03m# Fallback dispatch system (dispatch v1):\u001b[39;00m\n\u001b[0;32m   1259\u001b[0m \u001b[38;5;28;01mtry\u001b[39;00m:\n\u001b[1;32m-> 1260\u001b[0m   \u001b[38;5;28;01mreturn\u001b[39;00m \u001b[43mdispatch_target\u001b[49m\u001b[43m(\u001b[49m\u001b[38;5;241;43m*\u001b[39;49m\u001b[43margs\u001b[49m\u001b[43m,\u001b[49m\u001b[43m \u001b[49m\u001b[38;5;241;43m*\u001b[39;49m\u001b[38;5;241;43m*\u001b[39;49m\u001b[43mkwargs\u001b[49m\u001b[43m)\u001b[49m\n\u001b[0;32m   1261\u001b[0m \u001b[38;5;28;01mexcept\u001b[39;00m (\u001b[38;5;167;01mTypeError\u001b[39;00m, \u001b[38;5;167;01mValueError\u001b[39;00m):\n\u001b[0;32m   1262\u001b[0m   \u001b[38;5;66;03m# Note: convert_to_eager_tensor currently raises a ValueError, not a\u001b[39;00m\n\u001b[0;32m   1263\u001b[0m   \u001b[38;5;66;03m# TypeError, when given unexpected types.  So we need to catch both.\u001b[39;00m\n\u001b[0;32m   1264\u001b[0m   result \u001b[38;5;241m=\u001b[39m dispatch(op_dispatch_handler, args, kwargs)\n",
      "File \u001b[1;32mc:\\Users\\Dell\\AppData\\Local\\Programs\\Python\\Python311\\Lib\\site-packages\\tensorflow\\python\\ops\\ragged\\ragged_getitem.py:106\u001b[0m, in \u001b[0;36mragged_tensor_getitem\u001b[1;34m(rt_input, key)\u001b[0m\n\u001b[0;32m    104\u001b[0m   key \u001b[38;5;241m=\u001b[39m [key]\n\u001b[0;32m    105\u001b[0m \u001b[38;5;28;01mwith\u001b[39;00m ops\u001b[38;5;241m.\u001b[39mname_scope(\u001b[38;5;28;01mNone\u001b[39;00m, \u001b[38;5;124m\"\u001b[39m\u001b[38;5;124mRaggedGetItem\u001b[39m\u001b[38;5;124m\"\u001b[39m, scope_tensors):\n\u001b[1;32m--> 106\u001b[0m   \u001b[38;5;28;01mreturn\u001b[39;00m \u001b[43m_ragged_getitem\u001b[49m\u001b[43m(\u001b[49m\u001b[43mrt_input\u001b[49m\u001b[43m,\u001b[49m\u001b[43m \u001b[49m\u001b[43mkey\u001b[49m\u001b[43m)\u001b[49m\n",
      "File \u001b[1;32mc:\\Users\\Dell\\AppData\\Local\\Programs\\Python\\Python311\\Lib\\site-packages\\tensorflow\\python\\ops\\ragged\\ragged_getitem.py:167\u001b[0m, in \u001b[0;36m_ragged_getitem\u001b[1;34m(rt_input, key_list)\u001b[0m\n\u001b[0;32m    163\u001b[0m \u001b[38;5;66;03m# Indexing a single row: slice values to get the indicated row, and then\u001b[39;00m\n\u001b[0;32m    164\u001b[0m \u001b[38;5;66;03m# use a recursive call to __getitem__ to handle the inner keys.\u001b[39;00m\n\u001b[0;32m    165\u001b[0m \u001b[38;5;28;01melse\u001b[39;00m:\n\u001b[0;32m    166\u001b[0m   starts \u001b[38;5;241m=\u001b[39m rt_input\u001b[38;5;241m.\u001b[39mrow_splits[:\u001b[38;5;241m-\u001b[39m\u001b[38;5;241m1\u001b[39m]\n\u001b[1;32m--> 167\u001b[0m   limits \u001b[38;5;241m=\u001b[39m \u001b[43mrt_input\u001b[49m\u001b[38;5;241;43m.\u001b[39;49m\u001b[43mrow_splits\u001b[49m\u001b[43m[\u001b[49m\u001b[38;5;241;43m1\u001b[39;49m\u001b[43m:\u001b[49m\u001b[43m]\u001b[49m\n\u001b[0;32m    168\u001b[0m   \u001b[38;5;28;01mif\u001b[39;00m context\u001b[38;5;241m.\u001b[39mexecuting_eagerly():\n\u001b[0;32m    169\u001b[0m     \u001b[38;5;66;03m# In python, __getitem__ should throw IndexError for out of bound\u001b[39;00m\n\u001b[0;32m    170\u001b[0m     \u001b[38;5;66;03m# indices. This will allow iteration run correctly as python will\u001b[39;00m\n\u001b[1;32m   (...)\u001b[0m\n\u001b[0;32m    182\u001b[0m     \u001b[38;5;66;03m# TypeError which happens when row_key is not an integer, the exception\u001b[39;00m\n\u001b[0;32m    183\u001b[0m     \u001b[38;5;66;03m# will simply be ignored as it will be processed later anyway.\u001b[39;00m\n\u001b[0;32m    184\u001b[0m     \u001b[38;5;28;01mtry\u001b[39;00m:\n",
      "File \u001b[1;32mc:\\Users\\Dell\\AppData\\Local\\Programs\\Python\\Python311\\Lib\\site-packages\\tensorflow\\python\\util\\traceback_utils.py:150\u001b[0m, in \u001b[0;36mfilter_traceback.<locals>.error_handler\u001b[1;34m(*args, **kwargs)\u001b[0m\n\u001b[0;32m    148\u001b[0m filtered_tb \u001b[38;5;241m=\u001b[39m \u001b[38;5;28;01mNone\u001b[39;00m\n\u001b[0;32m    149\u001b[0m \u001b[38;5;28;01mtry\u001b[39;00m:\n\u001b[1;32m--> 150\u001b[0m   \u001b[38;5;28;01mreturn\u001b[39;00m \u001b[43mfn\u001b[49m\u001b[43m(\u001b[49m\u001b[38;5;241;43m*\u001b[39;49m\u001b[43margs\u001b[49m\u001b[43m,\u001b[49m\u001b[43m \u001b[49m\u001b[38;5;241;43m*\u001b[39;49m\u001b[38;5;241;43m*\u001b[39;49m\u001b[43mkwargs\u001b[49m\u001b[43m)\u001b[49m\n\u001b[0;32m    151\u001b[0m \u001b[38;5;28;01mexcept\u001b[39;00m \u001b[38;5;167;01mException\u001b[39;00m \u001b[38;5;28;01mas\u001b[39;00m e:\n\u001b[0;32m    152\u001b[0m   filtered_tb \u001b[38;5;241m=\u001b[39m _process_traceback_frames(e\u001b[38;5;241m.\u001b[39m__traceback__)\n",
      "File \u001b[1;32mc:\\Users\\Dell\\AppData\\Local\\Programs\\Python\\Python311\\Lib\\site-packages\\tensorflow\\python\\util\\dispatch.py:1260\u001b[0m, in \u001b[0;36madd_dispatch_support.<locals>.decorator.<locals>.op_dispatch_handler\u001b[1;34m(*args, **kwargs)\u001b[0m\n\u001b[0;32m   1258\u001b[0m \u001b[38;5;66;03m# Fallback dispatch system (dispatch v1):\u001b[39;00m\n\u001b[0;32m   1259\u001b[0m \u001b[38;5;28;01mtry\u001b[39;00m:\n\u001b[1;32m-> 1260\u001b[0m   \u001b[38;5;28;01mreturn\u001b[39;00m \u001b[43mdispatch_target\u001b[49m\u001b[43m(\u001b[49m\u001b[38;5;241;43m*\u001b[39;49m\u001b[43margs\u001b[49m\u001b[43m,\u001b[49m\u001b[43m \u001b[49m\u001b[38;5;241;43m*\u001b[39;49m\u001b[38;5;241;43m*\u001b[39;49m\u001b[43mkwargs\u001b[49m\u001b[43m)\u001b[49m\n\u001b[0;32m   1261\u001b[0m \u001b[38;5;28;01mexcept\u001b[39;00m (\u001b[38;5;167;01mTypeError\u001b[39;00m, \u001b[38;5;167;01mValueError\u001b[39;00m):\n\u001b[0;32m   1262\u001b[0m   \u001b[38;5;66;03m# Note: convert_to_eager_tensor currently raises a ValueError, not a\u001b[39;00m\n\u001b[0;32m   1263\u001b[0m   \u001b[38;5;66;03m# TypeError, when given unexpected types.  So we need to catch both.\u001b[39;00m\n\u001b[0;32m   1264\u001b[0m   result \u001b[38;5;241m=\u001b[39m dispatch(op_dispatch_handler, args, kwargs)\n",
      "\u001b[1;31mKeyboardInterrupt\u001b[0m: "
     ]
    }
   ],
   "source": [
    "# We create the vocabulary. This step takes a long time and thats why i aslo provided a ready saved set\n",
    "words = set()\n",
    "for word1, word2 in text_generator(PATH_INPUT):\n",
    "    words.add(word1)\n",
    "    words.add(word2)"
   ]
  },
  {
   "cell_type": "code",
   "execution_count": 5,
   "metadata": {},
   "outputs": [],
   "source": [
    "# here we load the set.\n",
    "\n",
    "with open('.../words_set.pickle', 'rb') as f:\n",
    "    words = pickle.load(f)\n",
    "\n",
    "vocabulary = sorted(list(words))\n",
    "\n",
    "#simple encoder decoder\n",
    "word_to_index = {word: index for index, word in enumerate(vocabulary)}\n",
    "index_to_word = {index: word for word, index in word_to_index.items()}"
   ]
  },
  {
   "cell_type": "code",
   "execution_count": 6,
   "metadata": {},
   "outputs": [],
   "source": [
    "# Create a lookup table for words to indices\n",
    "table = tf.lookup.StaticHashTable(\n",
    "    initializer=tf.lookup.KeyValueTensorInitializer(\n",
    "        keys=tf.constant(vocabulary),\n",
    "        values=tf.constant(list(range(len(vocabulary))), dtype=tf.int32)\n",
    "    ),\n",
    "    default_value=tf.constant(-1),\n",
    "    name=\"table\"\n",
    ")\n",
    "\n",
    "def words_to_indices(word1, word2):\n",
    "    return table.lookup(word1), table.lookup(word2)\n",
    "\n",
    "# Map words in the dataset to their indices\n",
    "dataset = dataset.map(words_to_indices)\n",
    "dataset = dataset.map(lambda x, y: (tf.expand_dims(x, -1), y))\n",
    "dataset = dataset.shuffle(buffer_size=10000)"
   ]
  },
  {
   "cell_type": "code",
   "execution_count": 7,
   "metadata": {},
   "outputs": [],
   "source": [
    "# We make trainign and validation sets\n",
    "val_size = int(len(list(dataset)) * 0.2)\n",
    "\n",
    "\n",
    "val_dataset = dataset.take(val_size).batch(64, drop_remainder=True)\n",
    "train_dataset = dataset.skip(val_size).batch(64, drop_remainder=True)"
   ]
  },
  {
   "cell_type": "code",
   "execution_count": 19,
   "metadata": {},
   "outputs": [
    {
     "name": "stdout",
     "output_type": "stream",
     "text": [
      "WARNING:tensorflow:From C:\\Users\\Dell\\AppData\\Local\\Temp\\ipykernel_9444\\28183997.py:3: save (from tensorflow.python.data.experimental.ops.io) is deprecated and will be removed in a future version.\n",
      "Instructions for updating:\n",
      "Use `tf.data.Dataset.save(...)` instead.\n"
     ]
    }
   ],
   "source": [
    "# I dont have a strong computer and thats why i save almost everything. the set() creeation took me 15 minutes which is long, but understandable for a dataset this big\n",
    "\n",
    "tf.data.experimental.save(train_dataset, 'train_dataset')\n",
    "tf.data.experimental.save(val_dataset, 'val_dataset')"
   ]
  },
  {
   "cell_type": "code",
   "execution_count": 12,
   "metadata": {},
   "outputs": [
    {
     "name": "stdout",
     "output_type": "stream",
     "text": [
      "WARNING:tensorflow:From C:\\Users\\Dell\\AppData\\Local\\Temp\\ipykernel_420\\2537407901.py:1: save (from tensorflow.python.data.experimental.ops.io) is deprecated and will be removed in a future version.\n",
      "Instructions for updating:\n",
      "Use `tf.data.Dataset.save(...)` instead.\n"
     ]
    },
    {
     "ename": "",
     "evalue": "",
     "output_type": "error",
     "traceback": [
      "\u001b[1;31mCannot execute code, session has been disposed. Please try restarting the Kernel."
     ]
    },
    {
     "ename": "",
     "evalue": "",
     "output_type": "error",
     "traceback": [
      "\u001b[1;31mCannot execute code, session has been disposed. Please try restarting the Kernel. \n",
      "\u001b[1;31mView Jupyter <a href='command:jupyter.viewOutput'>log</a> for further details."
     ]
    }
   ],
   "source": [
    "# quick function for loading the vlaidation and training datasets\n",
    "settings = (tf.TensorSpec(shape=(64, 1), dtype=tf.int32), tf.TensorSpec(shape=(64,), dtype=tf.int32))\n",
    "\n",
    "train_dataset = tf.data.Dataset.load('train_dataset', element_spec = settings)\n",
    "val_dataset = tf.data.Dataset.load('val_dataset', element_spec = settings)"
   ]
  },
  {
   "cell_type": "code",
   "execution_count": 9,
   "metadata": {},
   "outputs": [],
   "source": [
    "\n",
    "# using keras.model we create our bigram LM. I added the lstm and dropout layers to make the model model better. before adding them, the model didnt work at all.\n",
    "class BigramModel(tf.keras.Model):\n",
    "    def __init__(self, vocab_size, embedding_dim=256):\n",
    "        super(BigramModel, self).__init__()\n",
    "        self.embedding = tf.keras.layers.Embedding(input_dim=vocab_size, output_dim=embedding_dim)\n",
    "        self.dropout = tf.keras.layers.Dropout(0.5)\n",
    "        self.lstm = tf.keras.layers.LSTM(256, return_sequences=True)\n",
    "        self.dense = tf.keras.layers.Dense(vocab_size)\n",
    "\n",
    "    def call(self, x):\n",
    "        x = self.embedding(x)\n",
    "        x = self.dropout(x)\n",
    "        x = self.lstm(x) \n",
    "        x = self.dense(x)\n",
    "        return x"
   ]
  },
  {
   "cell_type": "code",
   "execution_count": 10,
   "metadata": {},
   "outputs": [
    {
     "name": "stdout",
     "output_type": "stream",
     "text": [
      "WARNING:tensorflow:From c:\\Users\\Dell\\AppData\\Local\\Programs\\Python\\Python311\\Lib\\site-packages\\keras\\src\\backend.py:873: The name tf.get_default_graph is deprecated. Please use tf.compat.v1.get_default_graph instead.\n",
      "\n",
      "WARNING:tensorflow:From c:\\Users\\Dell\\AppData\\Local\\Programs\\Python\\Python311\\Lib\\site-packages\\keras\\src\\engine\\base_layer_utils.py:189: The name tf.placeholder is deprecated. Please use tf.compat.v1.placeholder instead.\n",
      "\n",
      "Model: \"bigram_model\"\n",
      "_________________________________________________________________\n",
      " Layer (type)                Output Shape              Param #   \n",
      "=================================================================\n",
      " embedding (Embedding)       multiple                  3289344   \n",
      "                                                                 \n",
      " dropout (Dropout)           multiple                  0         \n",
      "                                                                 \n",
      " lstm (LSTM)                 multiple                  525312    \n",
      "                                                                 \n",
      " dense (Dense)               multiple                  3302193   \n",
      "                                                                 \n",
      "=================================================================\n",
      "Total params: 7116849 (27.15 MB)\n",
      "Trainable params: 7116849 (27.15 MB)\n",
      "Non-trainable params: 0 (0.00 Byte)\n",
      "_________________________________________________________________\n",
      "WARNING:tensorflow:From c:\\Users\\Dell\\AppData\\Local\\Programs\\Python\\Python311\\Lib\\site-packages\\keras\\src\\optimizers\\__init__.py:309: The name tf.train.Optimizer is deprecated. Please use tf.compat.v1.train.Optimizer instead.\n",
      "\n"
     ]
    }
   ],
   "source": [
    "# classic stuff. define the model, compile it, set early stopping and learning rate\n",
    "model = BigramModel(len(vocabulary))\n",
    "model.build(input_shape=(None, 1))\n",
    "model.summary()\n",
    "\n",
    "model.compile(optimizer='adam', loss=tf.keras.losses.SparseCategoricalCrossentropy(from_logits=True), metrics=['accuracy', 'val_loss'])\n",
    "\n",
    "early_stopping = tf.keras.callbacks.EarlyStopping(monitor='val_loss', patience=3, restore_best_weights=True)\n",
    "\n",
    "lr_schedule = tf.keras.callbacks.ReduceLROnPlateau(monitor='val_loss', factor=0.5, patience=2)"
   ]
  },
  {
   "cell_type": "code",
   "execution_count": 15,
   "metadata": {},
   "outputs": [],
   "source": [
    "# Train the model with validation\n",
    "\n",
    "#history = model.fit(train_dataset, epochs=4, validation_data=val_dataset, callbacks=[early_stopping, lr_schedule])\n",
    "\n",
    "# or loading the model and history.\n",
    "model = tf.keras.models.load_model('Bigram_model')\n",
    "\n",
    "with open('history.pickle', 'rb') as f:\n",
    "    history = pickle.load(f)\n"
   ]
  },
  {
   "cell_type": "code",
   "execution_count": 17,
   "metadata": {},
   "outputs": [
    {
     "data": {
      "image/png": "[encoded data removed]",
      "text/plain": [
       "<Figure size 1200x400 with 2 Axes>"
      ]
     },
     "metadata": {},
     "output_type": "display_data"
    }
   ],
   "source": [
    "# Here we plot the mterics. We know that the model doesnt do well as even tho the loss is diminishing the accuracy also does so. I couldnt fix this error.\n",
    "def plot_history(history):\n",
    "    epochs = range(1, len(history['val_accuracy']) + 1)\n",
    "\n",
    "    plt.figure(figsize=(12, 4))\n",
    "\n",
    "    plt.subplot(1, 2, 1)\n",
    "    plt.plot(epochs, history['accuracy'], label='train accuracy')\n",
    "    plt.plot(epochs, history['val_accuracy'], label='val accuracy')\n",
    "    plt.legend()\n",
    "\n",
    "    plt.subplot(1, 2, 2)\n",
    "    plt.plot(epochs, history['loss'], label='Training loss')\n",
    "    plt.plot(epochs, history['val_loss'], label='Validation loss')\n",
    "\n",
    "    plt.legend()\n",
    "\n",
    "    plt.show()\n",
    "\n",
    "plot_history(history)"
   ]
  },
  {
   "cell_type": "code",
   "execution_count": 27,
   "metadata": {},
   "outputs": [
    {
     "name": "stdout",
     "output_type": "stream",
     "text": [
      "['achieve', 'the', 'world']\n"
     ]
    }
   ],
   "source": [
    "def generate_text_2(model, start_word, max_words=50):\n",
    "    word = start_word\n",
    "    generated_words = [word]\n",
    "    \n",
    "    for _ in range(max_words):\n",
    "        input_index = np.array([[word_to_index[word]]])\n",
    "        prediction = model(input_index)\n",
    "        predicted_index = np.argmax(prediction, axis=-1)[0][0]\n",
    "        word = index_to_word[predicted_index]\n",
    "        \n",
    "        if word == '<end>':\n",
    "            break\n",
    "        \n",
    "        generated_words.append(word)\n",
    "    \n",
    "    return generated_words\n",
    "\n",
    "print(generate_text_2(model, start_word=\"achieve\", max_words=20))"
   ]
  },
  {
   "cell_type": "code",
   "execution_count": 28,
   "metadata": {},
   "outputs": [
    {
     "name": "stdout",
     "output_type": "stream",
     "text": [
      "For word: banishment the response is:\n",
      "['banishment']\n",
      "For word: mingle the response is:\n",
      "['mingle']\n",
      "For word: mountebank the response is:\n",
      "['mountebank']\n",
      "For word: paws the response is:\n",
      "['paws']\n",
      "For word: ive the response is:\n",
      "['ive']\n",
      "For word: joindstool the response is:\n",
      "['joindstool']\n",
      "For word: sustain the response is:\n",
      "['sustain']\n",
      "For word: cursing the response is:\n",
      "['cursing']\n",
      "For word: severing the response is:\n",
      "['severing']\n",
      "For word: doubtthat the response is:\n",
      "['doubtthat']\n",
      "For word: grandmother the response is:\n",
      "['grandmother']\n",
      "For word: talks the response is:\n",
      "['talks']\n",
      "For word: senseless the response is:\n",
      "['senseless']\n",
      "For word: mart the response is:\n",
      "['mart']\n",
      "For word: sedition the response is:\n",
      "['sedition']\n",
      "For word: suspected the response is:\n",
      "['suspected']\n",
      "For word: jaws the response is:\n",
      "['jaws']\n",
      "For word: camel the response is:\n",
      "['camel']\n",
      "For word: poise the response is:\n",
      "['poise']\n",
      "For word: gentlemanlike the response is:\n",
      "['gentlemanlike']\n",
      "For word: monachum the response is:\n",
      "['monachum']\n",
      "For word: burnt the response is:\n",
      "['burnt']\n",
      "For word: excellence the response is:\n",
      "['excellence']\n",
      "For word: allowed the response is:\n",
      "['allowed']\n",
      "For word: sleepdie the response is:\n",
      "['sleepdie']\n",
      "For word: too the response is:\n",
      "['too']\n",
      "For word: discomfited the response is:\n",
      "['discomfited']\n",
      "For word: incorporate the response is:\n",
      "['incorporate']\n",
      "For word: capers the response is:\n",
      "['capers']\n",
      "For word: blow the response is:\n",
      "['blow', 'of', 'the', 'world']\n",
      "For word: overgone the response is:\n",
      "['overgone']\n",
      "For word: wedlock the response is:\n",
      "['wedlock']\n",
      "For word: hopeless the response is:\n",
      "['hopeless']\n",
      "For word: speech the response is:\n",
      "['speech']\n",
      "For word: stuff the response is:\n",
      "['stuff']\n",
      "For word: growth the response is:\n",
      "['growth']\n",
      "For word: stifled the response is:\n",
      "['stifled']\n",
      "For word: flocks the response is:\n",
      "['flocks']\n",
      "For word: prithee the response is:\n",
      "['prithee']\n",
      "For word: afterdinners the response is:\n",
      "['afterdinners']\n",
      "For word: toes the response is:\n",
      "['toes']\n",
      "For word: wellchosen the response is:\n",
      "['wellchosen']\n",
      "For word: grains the response is:\n",
      "['grains']\n",
      "For word: indirectly the response is:\n",
      "['indirectly']\n",
      "For word: sweetest the response is:\n",
      "['sweetest']\n",
      "For word: guildfords the response is:\n",
      "['guildfords']\n",
      "For word: howbeit the response is:\n",
      "['howbeit']\n",
      "For word: lurk the response is:\n",
      "['lurk']\n",
      "For word: statues the response is:\n",
      "['statues']\n",
      "For word: rates the response is:\n",
      "['rates']\n"
     ]
    }
   ],
   "source": [
    "# quick test to check how moidel is doing by random word pulling. The bad thing is that, the model doesnt create a coherent sentences of any kind but the good this is that it knows when to stop. \n",
    "# Our implementation of <end> token made it possible for the model to end the sentence.\n",
    "for _ in range(50):\n",
    "    index = np.random.randint(len(index_to_word))\n",
    "    print(f\"For word: {index_to_word[index]} the response is:\")\n",
    "    print(generate_text_2(model,start_word=index_to_word[index],max_words=5))\n"
   ]
  }
 ],
 "metadata": {
  "kernelspec": {
   "display_name": "Python 3",
   "language": "python",
   "name": "python3"
  },
  "language_info": {
   "codemirror_mode": {
    "name": "ipython",
    "version": 3
   },
   "file_extension": ".py",
   "mimetype": "text/x-python",
   "name": "python",
   "nbconvert_exporter": "python",
   "pygments_lexer": "ipython3",
   "version": "3.11.3"
  }
 },
 "nbformat": 4,
 "nbformat_minor": 2
}
